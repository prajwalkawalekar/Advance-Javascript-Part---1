{
  "nbformat": 4,
  "nbformat_minor": 0,
  "metadata": {
    "colab": {
      "provenance": []
    },
    "kernelspec": {
      "name": "python3",
      "display_name": "Python 3"
    },
    "language_info": {
      "name": "python"
    }
  },
  "cells": [
    {
      "cell_type": "code",
      "source": [
        "\"\"\" 1. Create a Map in JavaScript and perform the following operations8\n",
        "      a. Add key-value pairs to the Map0\n",
        "      b. Check if a specific key exists0\n",
        "      c. Retrieve the value associated with a given key0\n",
        "      d. Iterate through all key-value pairs. \"\"\"\n",
        "\n",
        "      // 1. Create a Map and add key-value pairs\n",
        "      const myMap = new Map();\n",
        "\n",
        "      myMap.set('name', 'John');\n",
        "      myMap.set('age', 30);\n",
        "      myMap.set('city', 'Mumbai');\n",
        "\n",
        "      // 2. Check if a specific key exists\n",
        "      const hasAge = myMap.has('age');\n",
        "      console.log(`Has 'age'?  ${hasAge}`);  // true\n",
        "\n",
        "      const hasCountry = myMap.has('country');\n",
        "      console.log(`Has 'country'?  ${hasCountry}`);  // false\n",
        "\n",
        "      // 3. Retrieve the value associated with a given key\n",
        "      const nameValue = myMap.get('name');\n",
        "      console.log(`Value of 'name':  ${nameValue}`);  // John\n",
        "\n",
        "      // 4. Iterate through all key-value pairs\n",
        "      console.log(\"\\nAll key-value pairs in the Map:\");\n",
        "      for (const [key, value] of myMap.entries()) {\n",
        "        console.log(`${key}: ${value}`);\n",
        "      }"
      ],
      "metadata": {
        "id": "4uL0tfp4l6Uf"
      },
      "execution_count": null,
      "outputs": []
    },
    {
      "cell_type": "code",
      "source": [
        "\"\"\" 2. Create a Map to store contact information (name, age, email, location) and implement a function to retrieve\n",
        "contact details by name. \"\"\"\n",
        "\n",
        "      // Create a map to store contact information\n",
        "      const contactMap = new Map();\n",
        "\n",
        "      // Add contact entries\n",
        "      contactMap.set('Sanket', {\n",
        "          age: 28,\n",
        "          email: 'alicemap@gmail.com',\n",
        "          location: 'Mumbai'\n",
        "      });\n",
        "      contactMap.set('Naman', {\n",
        "          age: 27,\n",
        "          email: 'namanmap@gmail.com',\n",
        "          location: 'Delhi'\n",
        "      });\n",
        "      contactMap.set('Alakh', {\n",
        "          age: 26,\n",
        "          email: 'alakhmap@gmail.com',\n",
        "          location: 'Banglore'\n",
        "      });\n",
        "\n",
        "      // Function to return contact details by name\n",
        "      function getContactDetails(name) {\n",
        "          if(contactMap.has(name)) {\n",
        "              const contact = contactMap.get(name);\n",
        "              console.log(`Details for ${name}`);\n",
        "              console.log(`Age: ${contact.age}`);\n",
        "              console.log(`Email: ${contact.email}`);\n",
        "              console.log(`Location: ${contact.location}`);\n",
        "          } else {\n",
        "              console.log(`Contact not found for name: ${name}`);\n",
        "          }\n",
        "      }\n",
        "\n",
        "      // Samples\n",
        "      getContactDetails('Naman');\n",
        "      getContactDetails('Alakh');\n",
        "      getContactDetails('Swiggy');\n",
        "      getContactDetails('Zomato');"
      ],
      "metadata": {
        "id": "hGOz3S1nmN6_"
      },
      "execution_count": null,
      "outputs": []
    },
    {
      "cell_type": "code",
      "source": [
        "\"\"\" 3. You are given an array of numbers named myArray. Create a function that takes any number of arguments\n",
        "and adds them to the existing array. Use the spread and rest operator. \"\"\"\n",
        "\n",
        "      // Existing array\n",
        "      let myArray = [1, 2, 3];\n",
        "      console.log(myArray);\n",
        "\n",
        "      // Function to add any number of arguments to myArray\n",
        "      function addToArray(...newItem) {\n",
        "          myArray = [...myArray, ...newItem];\n",
        "          return myArray;\n",
        "      }\n",
        "\n",
        "      // Samples\n",
        "      console.log(addToArray(4, 5,));\n",
        "      console.log(addToArray(6, 7));\n",
        "      console.log(addToArray(8, 9, 10));"
      ],
      "metadata": {
        "id": "SdmU51L9mZ1A"
      },
      "execution_count": null,
      "outputs": []
    },
    {
      "cell_type": "code",
      "source": [
        "\"\"\" 4. Create an object car with properties brand, model, and a method displayDetails that prints \"Brand: [brand],\n",
        "Model: [model]\". Test the method using this keyword. \"\"\"\n",
        "\n",
        "      const car = {\n",
        "          brand: 'Toyota',\n",
        "          model: 'Camry',\n",
        "\n",
        "      displayDetails: function() {\n",
        "          console.log(`Brand: ${this.brand}, Model: ${this.model}`);\n",
        "      }\n",
        "      };\n",
        "\n",
        "      car.displayDetails();"
      ],
      "metadata": {
        "id": "khChw5MAmkC_"
      },
      "execution_count": null,
      "outputs": []
    },
    {
      "cell_type": "code",
      "source": [
        "\"\"\" 5. Create two objects person1 and person2 with properties name and age. Create a function “introduce” that\n",
        "prints \"Hello, I'm [name], and I'm [age] years old.\" Use the call method to make person2 introduce itself\n",
        "using the introduce function. \"\"\"\n",
        "\n",
        "      const person1 = {\n",
        "          name: 'Sanket Singh',\n",
        "          age: 27\n",
        "      }\n",
        "\n",
        "      const person2 = {\n",
        "          name: 'Alakh Pandey',\n",
        "          age: 30\n",
        "      }\n",
        "\n",
        "      // Function defined outside the objects\n",
        "      function introduce() {\n",
        "          console.log(`Hello, I'm ${this.name}, and I'm ${this.age} years old`);\n",
        "      }\n",
        "\n",
        "      // Call introduce for person1\n",
        "      introduce.call(person1);\n",
        "\n",
        "      // Call introduce for person2\n",
        "      introduce.call(person2);"
      ],
      "metadata": {
        "id": "GpcBYI53msZ_"
      },
      "execution_count": null,
      "outputs": []
    }
  ]
}